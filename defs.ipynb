{
 "cells": [
  {
   "cell_type": "code",
   "execution_count": 1,
   "metadata": {
    "collapsed": false
   },
   "outputs": [
    {
     "name": "stdout",
     "output_type": "stream",
     "text": [
      "ponto(numero, base, digitos na matissa, menor grau, mior grau)\n"
     ]
    }
   ],
   "source": [
    "#from IPython.display import Image\n",
    "#from IPython.display import HTML\n",
    "import matplotlib.pyplot as plt\n",
    "import numpy as np\n",
    "import numpy.random as npr\n",
    "import math\n",
    "\n",
    "\n",
    "#ESCREVER --> ponto(numero, base, digitos na matissa, maior grau, menor grau)\n",
    "print(\"ponto(numero, base, digitos na matissa, menor grau, mior grau)\")\n",
    "def ponto (n, b, t, eP, eL):\n",
    "    mini =  0.1 * (b ** eL)\n",
    "\n",
    "    div = 10\n",
    "    res = 0\n",
    "    if (n < 0):\n",
    "        num = n * -1\n",
    "    else:\n",
    "        num = n\n",
    "        \n",
    "    count = 0\n",
    "    \n",
    "    for i in range(t):\n",
    "        res = res + 9/div\n",
    "        div = div * 10\n",
    "\n",
    "    maxi = res * (b ** eP)\n",
    "\n",
    "    if (num > maxi):\n",
    "        print(\"OVERFLOW\")\n",
    "        return\n",
    "\n",
    "    if (num < mini):\n",
    "        print(\"UNDERFLOW\")\n",
    "        return\n",
    "\n",
    "\n",
    "    \n",
    "    if (num >= 1):\n",
    "        while(num >= 1):\n",
    "            count = count + 1\n",
    "            num = num/10\n",
    "    else:\n",
    "        while(num >= 1):\n",
    "            count = count - 1\n",
    "            num = num*10\n",
    "  \n",
    "    if(n > 0):\n",
    "        print(\"REPRESENTAÇÃO: \", round(num, t), \"x\", b, \"^\", count)\n",
    "    else:\n",
    "        print(\"REPRESENTAÇÃO: \", 1+(round(num, t)), \"x\", b, \"^\", count)\n",
    "\n",
    "\n"
   ]
  },
  {
   "cell_type": "code",
   "execution_count": 3,
   "metadata": {
    "collapsed": false
   },
   "outputs": [
    {
     "name": "stdout",
     "output_type": "stream",
     "text": [
      "REPRESENTAÇÃO:  0.236 x 10 ^ 3\n"
     ]
    }
   ],
   "source": [
    "#ESCREVER --> ponto(numero, base, digitos na matissa, maior grau, menor grau)\n",
    "ponto(235.82, 10, 3, 5, -5)"
   ]
  }
 ],
 "metadata": {
  "anaconda-cloud": {},
  "kernelspec": {
   "display_name": "Python [conda root]",
   "language": "python",
   "name": "conda-root-py"
  },
  "language_info": {
   "codemirror_mode": {
    "name": "ipython",
    "version": 3
   },
   "file_extension": ".py",
   "mimetype": "text/x-python",
   "name": "python",
   "nbconvert_exporter": "python",
   "pygments_lexer": "ipython3",
   "version": "3.5.2"
  }
 },
 "nbformat": 4,
 "nbformat_minor": 1
}
