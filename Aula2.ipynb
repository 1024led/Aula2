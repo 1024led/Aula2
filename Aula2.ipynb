{
 "cells": [
  {
   "cell_type": "code",
   "execution_count": 24,
   "metadata": {
    "collapsed": false
   },
   "outputs": [
    {
     "name": "stdout",
     "output_type": "stream",
     "text": [
      "A base em binário  0b1010\n",
      "Valor em binário a ser convertindo é r_1 =  0.109375\n",
      "\n",
      "wX = r_x * 10 =  1.09375\n",
      "(0.09375, 1.0)\n",
      "Convensão de z1 (parte inteira) para a base 10, 1.0\n",
      "A parte fracionária do número binário é r_2 = 0.09375\n",
      "\n",
      "wX = r_x * 10 =  0.9375\n",
      "(0.9375, 0.0)\n",
      "Convensão de z1 (parte inteira) para a base 10, 0.0\n",
      "A parte fracionária do número binário é r_2 = 0.9375\n",
      "\n",
      "wX = r_x * 10 =  9.375\n",
      "(0.375, 9.0)\n",
      "Convensão de z1 (parte inteira) para a base 10, 9.0\n",
      "A parte fracionária do número binário é r_2 = 0.375\n",
      "\n",
      "wX = r_x * 10 =  3.75\n",
      "(0.75, 3.0)\n",
      "Convensão de z1 (parte inteira) para a base 10, 3.0\n",
      "A parte fracionária do número binário é r_2 = 0.75\n",
      "\n",
      "wX = r_x * 10 =  7.5\n",
      "(0.5, 7.0)\n",
      "Convensão de z1 (parte inteira) para a base 10, 7.0\n",
      "A parte fracionária do número binário é r_2 = 0.5\n",
      "\n",
      "wX = r_x * 10 =  5.0\n",
      "(0.0, 5.0)\n",
      "Convensão de z1 (parte inteira) para a base 10, 5.0\n",
      "A parte fracionária do número binário é r_2 = 0.0\n",
      "\n",
      "wX = r_x * 10 =  0.0\n",
      "(0.0, 0.0)\n",
      "Convensão de z1 (parte inteira) para a base 10, 0.0\n",
      "A parte fracionária do número binário é r_2 = 0.0\n"
     ]
    }
   ],
   "source": [
    "#DEF 21/09/2018\n",
    "\n",
    "from IPython.display import Image\n",
    "from IPython.display import HTML\n",
    "import matplotlib.pyplot as plt\n",
    "import numpy as np\n",
    "import numpy.random as npr\n",
    "import math\n",
    "\n",
    "print('A base em binário ', bin(10))\n",
    "r_1 = 2**-4 + 2**-5 + 2**-6\n",
    "print( 'Valor em binário a ser convertindo é r_1 = ', r_1 )\n",
    "\n",
    "def binario (x):\n",
    "    w1 = x * 10\n",
    "    print('\\nwX = r_x * 10 = ', w1)\n",
    "    fracInt = math.modf(w1)\n",
    "    print(fracInt)\n",
    "    r_2 = fracInt[0]\n",
    "    b_1 = fracInt[1]\n",
    "    print('Convensão de z1 (parte inteira) para a base 10,', b_1)\n",
    "    print('A parte fracionária do número binário é r_2 =',r_2)\n",
    "    \n",
    "    if (x == 0):\n",
    "        return\n",
    "    else:\n",
    "        binario(r_2)\n",
    "\n",
    "binario(r_1)"
   ]
  },
  {
   "cell_type": "code",
   "execution_count": 30,
   "metadata": {
    "collapsed": false
   },
   "outputs": [
    {
     "name": "stdout",
     "output_type": "stream",
     "text": [
      "1e-05\n",
      "9990.0\n",
      "1.25  = 0.125 * 10^1\n",
      "10.053  = 0.100 * 10^2\n",
      "-238.15  = 1.238 * 10^3\n",
      "7e-06  = 0.7 * 10^-5 UNDERFLOW\n",
      "718235.82 = 0.718 * 10^6 OVERFLOW\n"
     ]
    }
   ],
   "source": [
    "#tres digitos ,B = 10, E{-4, 4}\n",
    "\n",
    "\n",
    "minimo = 0.1 * 10**-4\n",
    "print(minimo)\n",
    "\n",
    "maximo = 0.999 * 10**4\n",
    "print(maximo)\n",
    "\n",
    "\n",
    "n1 = 1.25\n",
    "n2 = 10.053\n",
    "n3 = -238.15\n",
    "n4 = 0.000007\n",
    "n5 = 718235.82\n",
    "\n",
    "print(n1, ' = 0.125 * 10^1')\n",
    "\n",
    "print(n2, ' = 0.100 * 10^2')\n",
    "\n",
    "print(n3, ' = 1.238 * 10^3') \n",
    "\n",
    "print(n4, ' = 0.7 * 10^-5 UNDERFLOW')\n",
    "\n",
    "print(n5, '= 0.718 * 10^6 OVERFLOW')"
   ]
  },
  {
   "cell_type": "code",
   "execution_count": 31,
   "metadata": {
    "collapsed": false
   },
   "outputs": [
    {
     "ename": "SyntaxError",
     "evalue": "unexpected EOF while parsing (<ipython-input-31-f654cf6537ba>, line 2)",
     "output_type": "error",
     "traceback": [
      "\u001b[0;36m  File \u001b[0;32m\"<ipython-input-31-f654cf6537ba>\"\u001b[0;36m, line \u001b[0;32m2\u001b[0m\n\u001b[0;31m    while(x > 0):\u001b[0m\n\u001b[0m                 ^\u001b[0m\n\u001b[0;31mSyntaxError\u001b[0m\u001b[0;31m:\u001b[0m unexpected EOF while parsing\n"
     ]
    }
   ],
   "source": [
    "def pont_flu(digi, mini, maxi, x):\n",
    "    cont = \n",
    "    while(x > 0):\n",
    "        "
   ]
  },
  {
   "cell_type": "code",
   "execution_count": null,
   "metadata": {
    "collapsed": true
   },
   "outputs": [],
   "source": []
  }
 ],
 "metadata": {
  "anaconda-cloud": {},
  "kernelspec": {
   "display_name": "Python [default]",
   "language": "python",
   "name": "python3"
  },
  "language_info": {
   "codemirror_mode": {
    "name": "ipython",
    "version": 3
   },
   "file_extension": ".py",
   "mimetype": "text/x-python",
   "name": "python",
   "nbconvert_exporter": "python",
   "pygments_lexer": "ipython3",
   "version": "3.5.2"
  }
 },
 "nbformat": 4,
 "nbformat_minor": 1
}
